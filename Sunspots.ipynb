{
 "cells": [
  {
   "cell_type": "markdown",
   "metadata": {
    "toc": true
   },
   "source": [
    "<h1>Table of Contents<span class=\"tocSkip\"></span></h1>\n",
    "<div class=\"toc\"><ul class=\"toc-item\"><li><span><a href=\"#Sunspot-Dataset\" data-toc-modified-id=\"Sunspot-Dataset-1\"><span class=\"toc-item-num\">1&nbsp;&nbsp;</span>Sunspot Dataset</a></span><ul class=\"toc-item\"><li><span><a href=\"#Load-the-Data\" data-toc-modified-id=\"Load-the-Data-1.1\"><span class=\"toc-item-num\">1.1&nbsp;&nbsp;</span>Load the Data</a></span></li><li><span><a href=\"#Descriptive-Analysis\" data-toc-modified-id=\"Descriptive-Analysis-1.2\"><span class=\"toc-item-num\">1.2&nbsp;&nbsp;</span>Descriptive Analysis</a></span></li></ul></li><li><span><a href=\"#Pre-process-for-TADA\" data-toc-modified-id=\"Pre-process-for-TADA-2\"><span class=\"toc-item-num\">2&nbsp;&nbsp;</span>Pre-process for TADA</a></span></li><li><span><a href=\"#tsExtract:-Time-Series-Preprocessing-Library\" data-toc-modified-id=\"tsExtract:-Time-Series-Preprocessing-Library-3\"><span class=\"toc-item-num\">3&nbsp;&nbsp;</span>tsExtract: Time Series Preprocessing Library</a></span><ul class=\"toc-item\"><li><span><a href=\"#TADA-prediction\" data-toc-modified-id=\"TADA-prediction-3.1\"><span class=\"toc-item-num\">3.1&nbsp;&nbsp;</span>TADA prediction</a></span></li><li><span><a href=\"#Prediction-with-SARIMA/ARIMA\" data-toc-modified-id=\"Prediction-with-SARIMA/ARIMA-3.2\"><span class=\"toc-item-num\">3.2&nbsp;&nbsp;</span>Prediction with SARIMA/ARIMA</a></span></li><li><span><a href=\"#Comparison-TADA-VS-ARIMA\" data-toc-modified-id=\"Comparison-TADA-VS-ARIMA-3.3\"><span class=\"toc-item-num\">3.3&nbsp;&nbsp;</span>Comparison TADA VS ARIMA</a></span></li><li><span><a href=\"#Conclusion\" data-toc-modified-id=\"Conclusion-3.4\"><span class=\"toc-item-num\">3.4&nbsp;&nbsp;</span>Conclusion</a></span></li></ul></li></ul></div>"
   ]
  },
  {
   "cell_type": "markdown",
   "metadata": {},
   "source": [
    "# Sunspot Dataset"
   ]
  },
  {
   "cell_type": "markdown",
   "metadata": {},
   "source": [
    "The main goal of this Notebook is given Sunspot Dataset try to compare two different model for predicting time series: \n",
    " \n",
    " - SARIMA/ARIMA model \n",
    " - TADA model \n",
    "\n"
   ]
  },
  {
   "cell_type": "code",
   "execution_count": 3,
   "metadata": {},
   "outputs": [],
   "source": [
    "import pandas as pd \n",
    "import matplotlib.pyplot as plt\n",
    "import numpy as np\n",
    "from math import sqrt\n",
    "from sklearn.metrics import mean_squared_error"
   ]
  },
  {
   "cell_type": "markdown",
   "metadata": {},
   "source": [
    "## Load the Data "
   ]
  },
  {
   "cell_type": "code",
   "execution_count": 4,
   "metadata": {},
   "outputs": [
    {
     "data": {
      "text/plain": [
       "'/Users/nicolaronzoni/Desktop/UCA/case_study'"
      ]
     },
     "execution_count": 4,
     "metadata": {},
     "output_type": "execute_result"
    }
   ],
   "source": [
    "pwd"
   ]
  },
  {
   "cell_type": "code",
   "execution_count": 5,
   "metadata": {},
   "outputs": [],
   "source": [
    "series= pd.read_csv(\"Sunspots.csv\",header=0, index_col=1)"
   ]
  },
  {
   "cell_type": "code",
   "execution_count": 6,
   "metadata": {},
   "outputs": [
    {
     "data": {
      "text/html": [
       "<div>\n",
       "<style scoped>\n",
       "    .dataframe tbody tr th:only-of-type {\n",
       "        vertical-align: middle;\n",
       "    }\n",
       "\n",
       "    .dataframe tbody tr th {\n",
       "        vertical-align: top;\n",
       "    }\n",
       "\n",
       "    .dataframe thead th {\n",
       "        text-align: right;\n",
       "    }\n",
       "</style>\n",
       "<table border=\"1\" class=\"dataframe\">\n",
       "  <thead>\n",
       "    <tr style=\"text-align: right;\">\n",
       "      <th></th>\n",
       "      <th>Unnamed: 0</th>\n",
       "      <th>Monthly Mean Total Sunspot Number</th>\n",
       "    </tr>\n",
       "    <tr>\n",
       "      <th>Date</th>\n",
       "      <th></th>\n",
       "      <th></th>\n",
       "    </tr>\n",
       "  </thead>\n",
       "  <tbody>\n",
       "    <tr>\n",
       "      <th>1749-01-31</th>\n",
       "      <td>0</td>\n",
       "      <td>96.7</td>\n",
       "    </tr>\n",
       "    <tr>\n",
       "      <th>1749-02-28</th>\n",
       "      <td>1</td>\n",
       "      <td>104.3</td>\n",
       "    </tr>\n",
       "    <tr>\n",
       "      <th>1749-03-31</th>\n",
       "      <td>2</td>\n",
       "      <td>116.7</td>\n",
       "    </tr>\n",
       "    <tr>\n",
       "      <th>1749-04-30</th>\n",
       "      <td>3</td>\n",
       "      <td>92.8</td>\n",
       "    </tr>\n",
       "    <tr>\n",
       "      <th>1749-05-31</th>\n",
       "      <td>4</td>\n",
       "      <td>141.7</td>\n",
       "    </tr>\n",
       "    <tr>\n",
       "      <th>...</th>\n",
       "      <td>...</td>\n",
       "      <td>...</td>\n",
       "    </tr>\n",
       "    <tr>\n",
       "      <th>2019-08-31</th>\n",
       "      <td>3247</td>\n",
       "      <td>0.5</td>\n",
       "    </tr>\n",
       "    <tr>\n",
       "      <th>2019-09-30</th>\n",
       "      <td>3248</td>\n",
       "      <td>1.1</td>\n",
       "    </tr>\n",
       "    <tr>\n",
       "      <th>2019-10-31</th>\n",
       "      <td>3249</td>\n",
       "      <td>0.4</td>\n",
       "    </tr>\n",
       "    <tr>\n",
       "      <th>2019-11-30</th>\n",
       "      <td>3250</td>\n",
       "      <td>0.5</td>\n",
       "    </tr>\n",
       "    <tr>\n",
       "      <th>2019-12-31</th>\n",
       "      <td>3251</td>\n",
       "      <td>1.6</td>\n",
       "    </tr>\n",
       "  </tbody>\n",
       "</table>\n",
       "<p>3252 rows × 2 columns</p>\n",
       "</div>"
      ],
      "text/plain": [
       "            Unnamed: 0  Monthly Mean Total Sunspot Number\n",
       "Date                                                     \n",
       "1749-01-31           0                               96.7\n",
       "1749-02-28           1                              104.3\n",
       "1749-03-31           2                              116.7\n",
       "1749-04-30           3                               92.8\n",
       "1749-05-31           4                              141.7\n",
       "...                ...                                ...\n",
       "2019-08-31        3247                                0.5\n",
       "2019-09-30        3248                                1.1\n",
       "2019-10-31        3249                                0.4\n",
       "2019-11-30        3250                                0.5\n",
       "2019-12-31        3251                                1.6\n",
       "\n",
       "[3252 rows x 2 columns]"
      ]
     },
     "execution_count": 6,
     "metadata": {},
     "output_type": "execute_result"
    }
   ],
   "source": [
    "series"
   ]
  },
  {
   "cell_type": "markdown",
   "metadata": {},
   "source": [
    "Delete the index column such that the new index column will be the date of the observation."
   ]
  },
  {
   "cell_type": "code",
   "execution_count": 7,
   "metadata": {},
   "outputs": [],
   "source": [
    "series=series.drop(columns=['Unnamed: 0'],axis=1)"
   ]
  },
  {
   "cell_type": "code",
   "execution_count": 8,
   "metadata": {},
   "outputs": [
    {
     "data": {
      "text/html": [
       "<div>\n",
       "<style scoped>\n",
       "    .dataframe tbody tr th:only-of-type {\n",
       "        vertical-align: middle;\n",
       "    }\n",
       "\n",
       "    .dataframe tbody tr th {\n",
       "        vertical-align: top;\n",
       "    }\n",
       "\n",
       "    .dataframe thead th {\n",
       "        text-align: right;\n",
       "    }\n",
       "</style>\n",
       "<table border=\"1\" class=\"dataframe\">\n",
       "  <thead>\n",
       "    <tr style=\"text-align: right;\">\n",
       "      <th></th>\n",
       "      <th>Monthly Mean Total Sunspot Number</th>\n",
       "    </tr>\n",
       "    <tr>\n",
       "      <th>Date</th>\n",
       "      <th></th>\n",
       "    </tr>\n",
       "  </thead>\n",
       "  <tbody>\n",
       "    <tr>\n",
       "      <th>1749-01-31</th>\n",
       "      <td>96.7</td>\n",
       "    </tr>\n",
       "    <tr>\n",
       "      <th>1749-02-28</th>\n",
       "      <td>104.3</td>\n",
       "    </tr>\n",
       "    <tr>\n",
       "      <th>1749-03-31</th>\n",
       "      <td>116.7</td>\n",
       "    </tr>\n",
       "    <tr>\n",
       "      <th>1749-04-30</th>\n",
       "      <td>92.8</td>\n",
       "    </tr>\n",
       "    <tr>\n",
       "      <th>1749-05-31</th>\n",
       "      <td>141.7</td>\n",
       "    </tr>\n",
       "    <tr>\n",
       "      <th>...</th>\n",
       "      <td>...</td>\n",
       "    </tr>\n",
       "    <tr>\n",
       "      <th>2019-08-31</th>\n",
       "      <td>0.5</td>\n",
       "    </tr>\n",
       "    <tr>\n",
       "      <th>2019-09-30</th>\n",
       "      <td>1.1</td>\n",
       "    </tr>\n",
       "    <tr>\n",
       "      <th>2019-10-31</th>\n",
       "      <td>0.4</td>\n",
       "    </tr>\n",
       "    <tr>\n",
       "      <th>2019-11-30</th>\n",
       "      <td>0.5</td>\n",
       "    </tr>\n",
       "    <tr>\n",
       "      <th>2019-12-31</th>\n",
       "      <td>1.6</td>\n",
       "    </tr>\n",
       "  </tbody>\n",
       "</table>\n",
       "<p>3252 rows × 1 columns</p>\n",
       "</div>"
      ],
      "text/plain": [
       "            Monthly Mean Total Sunspot Number\n",
       "Date                                         \n",
       "1749-01-31                               96.7\n",
       "1749-02-28                              104.3\n",
       "1749-03-31                              116.7\n",
       "1749-04-30                               92.8\n",
       "1749-05-31                              141.7\n",
       "...                                       ...\n",
       "2019-08-31                                0.5\n",
       "2019-09-30                                1.1\n",
       "2019-10-31                                0.4\n",
       "2019-11-30                                0.5\n",
       "2019-12-31                                1.6\n",
       "\n",
       "[3252 rows x 1 columns]"
      ]
     },
     "execution_count": 8,
     "metadata": {},
     "output_type": "execute_result"
    }
   ],
   "source": [
    "series"
   ]
  },
  {
   "cell_type": "markdown",
   "metadata": {},
   "source": [
    "## Descriptive Analysis  "
   ]
  },
  {
   "cell_type": "code",
   "execution_count": 9,
   "metadata": {},
   "outputs": [
    {
     "data": {
      "text/plain": [
       "<Figure size 1080x720 with 0 Axes>"
      ]
     },
     "metadata": {},
     "output_type": "display_data"
    },
    {
     "data": {
      "image/png": "[encoded data removed]",
      "text/plain": [
       "<Figure size 432x288 with 1 Axes>"
      ]
     },
     "metadata": {
      "needs_background": "light"
     },
     "output_type": "display_data"
    }
   ],
   "source": [
    "plt.figure(figsize=(15,10))\n",
    "series.plot()\n",
    "plt.xticks(rotation=45)\n",
    "plt.show()"
   ]
  },
  {
   "cell_type": "markdown",
   "metadata": {},
   "source": [
    "The dataset shows seasonality with large differences between seasons."
   ]
  },
  {
   "cell_type": "code",
   "execution_count": 10,
   "metadata": {},
   "outputs": [],
   "source": [
    "from statsmodels.tsa.stattools import acf, pacf\n",
    "from statsmodels.graphics.tsaplots import plot_acf, plot_pacf"
   ]
  },
  {
   "cell_type": "code",
   "execution_count": 11,
   "metadata": {},
   "outputs": [],
   "source": [
    "X=series.values"
   ]
  },
  {
   "cell_type": "code",
   "execution_count": 12,
   "metadata": {},
   "outputs": [
    {
     "data": {
      "text/plain": [
       "array([[ 96.7],\n",
       "       [104.3],\n",
       "       [116.7],\n",
       "       ...,\n",
       "       [  0.4],\n",
       "       [  0.5],\n",
       "       [  1.6]])"
      ]
     },
     "execution_count": 12,
     "metadata": {},
     "output_type": "execute_result"
    }
   ],
   "source": [
    "X"
   ]
  },
  {
   "cell_type": "markdown",
   "metadata": {},
   "source": [
    "Global and partial autocorrelation "
   ]
  },
  {
   "cell_type": "code",
   "execution_count": 13,
   "metadata": {},
   "outputs": [
    {
     "data": {
      "image/png": "[encoded data removed]",
      "text/plain": [
       "<Figure size 432x288 with 1 Axes>"
      ]
     },
     "execution_count": 13,
     "metadata": {},
     "output_type": "execute_result"
    },
    {
     "data": {
      "image/png": "[encoded data removed]",
      "text/plain": [
       "<Figure size 432x288 with 1 Axes>"
      ]
     },
     "metadata": {
      "needs_background": "light"
     },
     "output_type": "display_data"
    },
    {
     "data": {
      "image/png": "[encoded data removed]",
      "text/plain": [
       "<Figure size 432x288 with 1 Axes>"
      ]
     },
     "metadata": {
      "needs_background": "light"
     },
     "output_type": "display_data"
    }
   ],
   "source": [
    "plot_acf(X, lags=24)\n",
    "plot_pacf(X,lags=24)"
   ]
  },
  {
   "cell_type": "markdown",
   "metadata": {},
   "source": [
    "The main difference between Partial and Global autocorrelation is that in the Partial one the influences of the middle observations are not taken in account."
   ]
  },
  {
   "cell_type": "markdown",
   "metadata": {},
   "source": [
    "Decomposition of the time series: "
   ]
  },
  {
   "cell_type": "markdown",
   "metadata": {},
   "source": [
    " - Additive Model "
   ]
  },
  {
   "cell_type": "code",
   "execution_count": 14,
   "metadata": {},
   "outputs": [],
   "source": [
    "from statsmodels.tsa.seasonal import seasonal_decompose"
   ]
  },
  {
   "cell_type": "code",
   "execution_count": 23,
   "metadata": {
    "scrolled": true
   },
   "outputs": [
    {
     "data": {
      "image/png": "[encoded data removed]",
      "text/plain": [
       "<Figure size 432x288 with 4 Axes>"
      ]
     },
     "metadata": {
      "needs_background": "light"
     },
     "output_type": "display_data"
    }
   ],
   "source": [
    "#time series decomposition 'additive model' Level + Trend + Seasonality + Noise\n",
    "#the behavior is linear where changes over time are consistently made by the same amount, like a linear trend.\n",
    "#In this situation, the linear seasonality has the same amplitude and frequency,\n",
    "#This mean that the magnitude of seasonality does not change in relation to time.\n",
    "decomposition = seasonal_decompose(series, model='additive', period=1)\n",
    "decomposition.plot()\n",
    "plt.show()"
   ]
  },
  {
   "cell_type": "markdown",
   "metadata": {},
   "source": [
    "  - Multiplicative model, Unfortunately this decomposition doesn't work when we have zero values inside the series"
   ]
  },
  {
   "cell_type": "code",
   "execution_count": null,
   "metadata": {},
   "outputs": [],
   "source": [
    "#time series decomposition 'additive model' Level * Trend * Seasonality * Noise\n",
    "#the behavior is not linear, can be exponential or quadratic .\n",
    "#In this situation,  the multiplicative model has an increasing or decreasing amplitude and/or frequency over time.,\n",
    "#This mean that the magnitude of seasonality  change in relation to time.\n",
    "decomposition = seasonal_decompose(series,model='multiplicative', period=1)\n",
    "trend    = decomposition.trend\n",
    "seasonal = decomposition.seasonal\n",
    "residual = decomposition.resid\n",
    "decomposition.plot()\n",
    "plt.show()"
   ]
  },
  {
   "cell_type": "markdown",
   "metadata": {},
   "source": [
    " plot of First order difference"
   ]
  },
  {
   "cell_type": "code",
   "execution_count": 15,
   "metadata": {},
   "outputs": [
    {
     "data": {
      "text/plain": [
       "(array([-500.,    0.,  500., 1000., 1500., 2000., 2500., 3000., 3500.]),\n",
       " <a list of 9 Text major ticklabel objects>)"
      ]
     },
     "execution_count": 15,
     "metadata": {},
     "output_type": "execute_result"
    },
    {
     "data": {
      "image/png": "[encoded data removed]",
      "text/plain": [
       "<Figure size 432x288 with 1 Axes>"
      ]
     },
     "metadata": {
      "needs_background": "light"
     },
     "output_type": "display_data"
    }
   ],
   "source": [
    "series.diff(1).plot()\n",
    "plt.xticks(rotation=45)"
   ]
  },
  {
   "cell_type": "markdown",
   "metadata": {},
   "source": [
    "plot of seasonal difference "
   ]
  },
  {
   "cell_type": "code",
   "execution_count": 17,
   "metadata": {},
   "outputs": [
    {
     "data": {
      "text/plain": [
       "(array([-500.,    0.,  500., 1000., 1500., 2000., 2500., 3000., 3500.]),\n",
       " <a list of 9 Text major ticklabel objects>)"
      ]
     },
     "execution_count": 17,
     "metadata": {},
     "output_type": "execute_result"
    },
    {
     "data": {
      "image/png": "[encoded data removed]",
      "text/plain": [
       "<Figure size 432x288 with 1 Axes>"
      ]
     },
     "metadata": {
      "needs_background": "light"
     },
     "output_type": "display_data"
    }
   ],
   "source": [
    "series.diff(12).plot()\n",
    "plt.xticks(rotation=45)"
   ]
  },
  {
   "cell_type": "markdown",
   "metadata": {},
   "source": [
    "In both case we obtain a stationarity representation. "
   ]
  },
  {
   "cell_type": "markdown",
   "metadata": {},
   "source": [
    "# Pre-process for TADA "
   ]
  },
  {
   "cell_type": "markdown",
   "metadata": {},
   "source": [
    "In order to pre-process time series and convert it to a form that can be fed into standard machine learning regression algorithm, such as TADA, we have to define a sliding window of data. \n",
    "Given a sequence of numbers for a time series dataset, we can restructure data to look like a supervised learning problem. We can do this by using previous time steps as input variables and use the next time step as the output variable. \n"
   ]
  },
  {
   "cell_type": "markdown",
   "metadata": {},
   "source": [
    "But now the question is How many previous step i have to consider in order to create significant features?\n",
    "Of course this depend on the data, we can look at the autocorrelation plots, but we can implement a grid search in order to decide the best size window among a set of choice that minimaize the error.  "
   ]
  },
  {
   "cell_type": "code",
   "execution_count": 27,
   "metadata": {},
   "outputs": [],
   "source": [
    "\n",
    "# grid search persistence models\n",
    "from math import sqrt\n",
    "from numpy import mean\n",
    "from pandas import read_csv\n",
    "from sklearn.metrics import mean_squared_error\n",
    "\n",
    "\n",
    "#The train_test_split() function below will split the series\n",
    "#taking the raw observations and the number of observations to use in the test set as arguments.\n",
    "\n",
    "# split a univariate dataset into train/test sets\n",
    "def train_test_split(data, n_test):\n",
    "    return data[:-n_test], data[-n_test:]\n",
    "\n",
    "\n",
    "#First, the dataset is split into train and test sets. \n",
    "#We will call the train_test_split() function\n",
    "#to perform this split and pass in the pre-specified number of observations to use as the test data.\n",
    "\n",
    "#A model will be fit once on the training dataset for a given configuration.\n",
    "\n",
    "# fit a model\n",
    "def model_fit(train, config):\n",
    "    return None\n",
    "\n",
    "#Each time step of the test dataset is enumerated.\n",
    "#A prediction is made using the fit model.\n",
    "#Again, we will define a generic function named model_predict()\n",
    "#that takes the fit model, the history, and the model configuration \n",
    "#and makes a single one-step prediction. \n",
    "\n",
    "# forecast with a pre-fit model\n",
    "def model_predict(model, history, offset):\n",
    "    return history[-offset]\n",
    "\n",
    "#We will calculate the root mean squared error, or RMSE,\n",
    "#between predictions and the true values.\n",
    "# root mean squared error or rmse\n",
    "def measure_rmse(actual, predicted):\n",
    "    return sqrt(mean_squared_error(actual, predicted))\n",
    "\n",
    "#The prediction is added to a list of predictions\n",
    "#and the true observation from the test set is added to a list of observations that was seeded with all observations from the training dataset. This list is built up during each step in the walk-forward validation, allowing the model to make a one-step prediction using the most recent history.\n",
    "\n",
    "#All of the predictions can then be compared to the true values in the test set\n",
    "#and an error measure calculated.\n",
    "\n",
    "#We will calculate the root mean squared error, or RMSE, between predictions and the true values.\n",
    "\n",
    " \n",
    "# walk-forward validation for univariate data\n",
    "#takes the dataset, the number of observations to use as the test set, and the configuration for the model, \n",
    "#and returns the RMSE for the model performance on the test set.\n",
    "def walk_forward_validation(data, n_test, cfg):\n",
    "    predictions = list()\n",
    "    # split dataset\n",
    "    train, test = train_test_split(data, n_test)\n",
    "    # fit model\n",
    "    model = model_fit(train, cfg)\n",
    "    # seed history with training dataset\n",
    "    history = [x for x in train]\n",
    "    # step over each time-step in the test set\n",
    "    for i in range(len(test)):\n",
    "        # fit model and make forecast for history\n",
    "        yhat = model_predict(model, history, cfg)\n",
    "        # store forecast in list of predictions\n",
    "        predictions.append(yhat)\n",
    "        # add actual observation to history for the next loop\n",
    "        history.append(test[i])\n",
    "    # estimate prediction error\n",
    "    error = measure_rmse(test, predictions)\n",
    "    print(' > %.3f' % error)\n",
    "    return error\n",
    " \n",
    "#Repeat evaluation: \n",
    "#Genetic Algorithm are adaptive\n",
    "#Given the same model configuration and the same training dataset, \n",
    "#a different set of weights will result each time, this mean that we could have different performance. \n",
    "\n",
    "#This is a benefit because the model find high performing configurations to complex problem \n",
    "#However it is also a problem when evaluating the performance of a model and choosing a final model to predict. \n",
    "\n",
    "#To address model evaluation, \n",
    "#we will evaluate a model configuration multiple times via walk-forward validation\n",
    "#and report the error as the average error across each evaluation.\n",
    "#but indeed this is not always possible especially when we deal with computational intense algorithms where a lot of weights must be set. \n",
    "\n",
    "#The repeat_evaluate() function below implements this\n",
    "#and allows the number of repeats to be specified as an optional parameter\n",
    "#that defaults to 1 and returns the mean RMSE score from all repeats.\n",
    "\n",
    "# score a model, return None on failure\n",
    "def repeat_evaluate(data, config, n_test, n_repeats=1):\n",
    "    # convert config to a key\n",
    "    key = str(config)\n",
    "    # fit and evaluate the model n times\n",
    "    scores = [walk_forward_validation(data, n_test, config) for _ in range(n_repeats)]\n",
    "    # summarize score\n",
    "    result = mean(scores)\n",
    "    print('> Model[%s] %.3f' % (key, result))\n",
    "    return (key, result)\n",
    "\n",
    "\n",
    "#All that is left is a function to drive the search.\n",
    "#We can define a grid_search() function that takes\n",
    "#the dataset, a list of configurations to search, and the number of observations to use as the test set \n",
    "#and perform the search.\n",
    " \n",
    "# grid search configs\n",
    "def grid_search(data, cfg_list, n_test):\n",
    "    # evaluate configs\n",
    "    scores = [repeat_evaluate(data, cfg, n_test) for cfg in cfg_list]\n",
    "    # sort configs by error, asc\n",
    "    scores.sort(key=lambda tup: tup[1])\n",
    "    return scores\n",
    "\n",
    "\n"
   ]
  },
  {
   "cell_type": "markdown",
   "metadata": {},
   "source": [
    "After having create the function, we apply it to our data. We decide to split the train and test set considering as a test just the last observation.\n",
    "We take into account the best 6 models. "
   ]
  },
  {
   "cell_type": "code",
   "execution_count": 28,
   "metadata": {},
   "outputs": [
    {
     "name": "stdout",
     "output_type": "stream",
     "text": [
      " > 1.100\n",
      "> Model[1] 1.100\n",
      " > 1.200\n",
      "> Model[2] 1.200\n",
      " > 0.500\n",
      "> Model[3] 0.500\n",
      " > 1.100\n",
      "> Model[4] 1.100\n",
      " > 0.700\n",
      "> Model[5] 0.700\n",
      " > 0.400\n",
      "> Model[6] 0.400\n",
      " > 8.300\n",
      "> Model[7] 8.300\n",
      " > 7.500\n",
      "> Model[8] 7.500\n",
      " > 7.800\n",
      "> Model[9] 7.800\n",
      " > 0.800\n",
      "> Model[10] 0.800\n",
      " > 6.100\n",
      "> Model[11] 6.100\n",
      " > 1.500\n",
      "> Model[12] 1.500\n",
      " > 3.300\n",
      "> Model[13] 3.300\n",
      " > 3.300\n",
      "> Model[14] 3.300\n",
      " > 1.700\n",
      "> Model[15] 1.700\n",
      " > 7.100\n",
      "> Model[16] 7.100\n",
      " > 0.000\n",
      "> Model[17] 0.000\n",
      " > 14.000\n",
      "> Model[18] 14.000\n",
      " > 6.600\n",
      "> Model[24] 6.600\n",
      " > 16.900\n",
      "> Model[36] 16.900\n",
      " > 56.400\n",
      "> Model[48] 56.400\n",
      "done\n",
      "17 0.0\n",
      "6 0.40000000000000013\n",
      "3 0.5\n",
      "5 0.7000000000000001\n",
      "10 0.8\n",
      "1 1.1\n"
     ]
    }
   ],
   "source": [
    "# define dataset\n",
    "\n",
    "data = X\n",
    "# data split\n",
    "n_test = 1\n",
    "# model configs\n",
    "cfg_list = [1,2,3,4,5,6,7,8,9,10,11,12,13,14,15,16,17,18,24,36,48]\n",
    "# grid search\n",
    "scores = grid_search(data, cfg_list, n_test)\n",
    "print('done')\n",
    "# list top 10 configs\n",
    "for cfg, error in scores[:6]:\n",
    "    print(cfg, error)"
   ]
  },
  {
   "cell_type": "markdown",
   "metadata": {},
   "source": [
    "Best 6 previous steps to predict one step forward are showed above. The best ones are selected by computing the RMSE in the walk forward validation process.   "
   ]
  },
  {
   "cell_type": "markdown",
   "metadata": {},
   "source": [
    "# tsExtract: Time Series Preprocessing Library"
   ]
  },
  {
   "cell_type": "markdown",
   "metadata": {},
   "source": [
    "tsExtract is a time series preprocessing library. Using sliding windows, tsExtract allows for the conversion of time series data to a form that can be fed into standard machine learning regression algorithms like Linear Regression, Decision Trees Regression as well as Deep Learning."
   ]
  },
  {
   "cell_type": "code",
   "execution_count": 64,
   "metadata": {},
   "outputs": [
    {
     "name": "stdout",
     "output_type": "stream",
     "text": [
      "Collecting tsextract\n",
      "  Downloading tsextract-0.0.9-py3-none-any.whl (18 kB)\n",
      "Requirement already satisfied: pandas>=1.0.3 in /Users/nicolaronzoni/opt/anaconda3/lib/python3.8/site-packages (from tsextract) (1.0.5)\n",
      "Requirement already satisfied: statsmodels>=0.10.2 in /Users/nicolaronzoni/opt/anaconda3/lib/python3.8/site-packages (from tsextract) (0.11.1)\n",
      "Requirement already satisfied: scipy>=1.4.0 in /Users/nicolaronzoni/opt/anaconda3/lib/python3.8/site-packages (from tsextract) (1.5.0)\n",
      "Requirement already satisfied: numpy>=1.16.4 in /Users/nicolaronzoni/opt/anaconda3/lib/python3.8/site-packages (from tsextract) (1.19.5)\n",
      "Requirement already satisfied: matplotlib>=3.2.1 in /Users/nicolaronzoni/opt/anaconda3/lib/python3.8/site-packages (from tsextract) (3.2.2)\n",
      "Collecting plotnine>=0.0.6\n",
      "  Downloading plotnine-0.7.1-py3-none-any.whl (4.4 MB)\n",
      "\u001b[K     |████████████████████████████████| 4.4 MB 2.7 MB/s eta 0:00:01\n",
      "\u001b[?25hRequirement already satisfied: pytz>=2017.2 in /Users/nicolaronzoni/opt/anaconda3/lib/python3.8/site-packages (from pandas>=1.0.3->tsextract) (2020.1)\n",
      "Requirement already satisfied: python-dateutil>=2.6.1 in /Users/nicolaronzoni/opt/anaconda3/lib/python3.8/site-packages (from pandas>=1.0.3->tsextract) (2.8.1)\n",
      "Requirement already satisfied: patsy>=0.5 in /Users/nicolaronzoni/opt/anaconda3/lib/python3.8/site-packages (from statsmodels>=0.10.2->tsextract) (0.5.1)\n",
      "Requirement already satisfied: pyparsing!=2.0.4,!=2.1.2,!=2.1.6,>=2.0.1 in /Users/nicolaronzoni/opt/anaconda3/lib/python3.8/site-packages (from matplotlib>=3.2.1->tsextract) (2.4.7)\n",
      "Requirement already satisfied: kiwisolver>=1.0.1 in /Users/nicolaronzoni/opt/anaconda3/lib/python3.8/site-packages (from matplotlib>=3.2.1->tsextract) (1.2.0)\n",
      "Requirement already satisfied: cycler>=0.10 in /Users/nicolaronzoni/opt/anaconda3/lib/python3.8/site-packages (from matplotlib>=3.2.1->tsextract) (0.10.0)\n",
      "Collecting mizani>=0.7.1\n",
      "  Downloading mizani-0.7.2-py3-none-any.whl (62 kB)\n",
      "\u001b[K     |████████████████████████████████| 62 kB 3.0 MB/s  eta 0:00:01\n",
      "\u001b[?25hCollecting descartes>=1.1.0\n",
      "  Downloading descartes-1.1.0-py3-none-any.whl (5.8 kB)\n",
      "Requirement already satisfied: six>=1.5 in /Users/nicolaronzoni/opt/anaconda3/lib/python3.8/site-packages (from python-dateutil>=2.6.1->pandas>=1.0.3->tsextract) (1.15.0)\n",
      "Collecting palettable\n",
      "  Downloading palettable-3.3.0-py2.py3-none-any.whl (111 kB)\n",
      "\u001b[K     |████████████████████████████████| 111 kB 5.0 MB/s eta 0:00:01\n",
      "\u001b[31mERROR: mizani 0.7.2 has requirement pandas>=1.1.0, but you'll have pandas 1.0.5 which is incompatible.\u001b[0m\n",
      "\u001b[31mERROR: plotnine 0.7.1 has requirement pandas>=1.1.0, but you'll have pandas 1.0.5 which is incompatible.\u001b[0m\n",
      "\u001b[?25hInstalling collected packages: palettable, mizani, descartes, plotnine, tsextract\n",
      "Successfully installed descartes-1.1.0 mizani-0.7.2 palettable-3.3.0 plotnine-0.7.1 tsextract-0.0.9\n",
      "Note: you may need to restart the kernel to use updated packages.\n"
     ]
    }
   ],
   "source": [
    "pip install tsextract"
   ]
  },
  {
   "cell_type": "markdown",
   "metadata": {},
   "source": [
    "Main Feature:\n",
    "- Take sliding window of data and with that, create additional columns representing the window.\n",
    "- Perform differencing on windowed data to remove non-stationarity.\n",
    "- Calculate statistics on windowed and differenced data. These include temporal and spectral statistics functions.\n",
    "- Plot visualisations."
   ]
  },
  {
   "cell_type": "markdown",
   "metadata": {},
   "source": [
    "Using the main build_features function: build_features takes in 4 arguments:\n",
    "\n",
    "- Data: Time series data in 1d.\n",
    "\n",
    "- Feature Request: Dictionary with the function type and parameters\n",
    "\n",
    "- Include_tzero (optional) - This gives the option on whether to include the column t+0. Can be quite handy when implementing difference networks.\n",
    "\n",
    "- target_lag - Sets lag value. Default is 3. If we put target_lag=12 the target for Date 2018-12-31 is the value on 2019-12-31. In general the target at the time t is Xt+lag_score\n",
    "\n",
    "\n",
    "Feature:\n",
    " \n",
    "- window: Takes sliding window of the data. A single value will take a sliding window corresponding to that value. A parameter of [10] will take window from 1 to 10. if [5,10] passed then a window of 5 to 10 steps will be taken instead. \n",
    "- window_statistic:This perform windowing like above, but then applies specified statistic operation to reduce a matrix to a vector of 1d. \n",
    "- difference/momentum/force:Performs differencing by subtracting from the value in the present time step, the value in the previous time step. The parameter expected is a list of size 2 or 3. Like in the windowing the first 2 values refer to the window size. As in the window just one parameter could be taken. The final value is the lag, this refer to the differencing lag for subtraction.\n",
    "- difference_statistic/momentum_statistic/force_statistic: Similarly, this performs the operations described above, but then applies the specified statistic. \n",
    "\n",
    "Supported features for summary statistic: \n",
    "-    STATISTICS     --        TEMPORAL\n",
    "-   Mean            --       Absolute energy\n",
    "-   Median          --       AUC\n",
    "-    Range          --        Mean Absolute difference \n",
    "-    Standard Deviation--     Moment \n",
    "-    Minimum        --        Autocorrelation\n",
    "-    Maximum        --        Zero Crossing Rate"
   ]
  },
  {
   "cell_type": "code",
   "execution_count": 92,
   "metadata": {},
   "outputs": [],
   "source": [
    "from tsextract.feature_extraction.extract import build_features\n",
    "from tsextract.domain.statistics import median, mean, skew, kurtosis, std\n",
    "from tsextract.domain.temporal import abs_energy\n",
    "\n",
    "features_request = {\n",
    "    \"window\":[17], # Xt-1, Xt-2, Xt-3, Xt-4,Xt-5,Xt-6,....,Xt-17  features for Xt+1 (Select then the best ones based on the grid search)\n",
    "    #for the below features, we create it just to explore the feature creation tools of tsextract.\n",
    "    \"window_statistic\":[12, std], #standard deviation of(Xt-1,Xt-2,Xt-3,....,Xt-12) feature for Xt+1 --> Seasonality \n",
    "    \"difference\":[13,12], #(Xt-Xt-12) features for Xt ---> Stationarity\n",
    "    \"difference_statistic\":[3,1, abs_energy], #(Xt-Xt-1)^2+(Xt-1-Xt-2)^2 feature for Xt \n",
    "}\n",
    "\n",
    "features = build_features(series['Monthly Mean Total Sunspot Number'], features_request, include_tzero=True, target_lag=1)\n",
    "# our goal is to predict one step forward target_lag=1. "
   ]
  },
  {
   "cell_type": "code",
   "execution_count": 93,
   "metadata": {
    "scrolled": true
   },
   "outputs": [
    {
     "data": {
      "text/html": [
       "<div>\n",
       "<style scoped>\n",
       "    .dataframe tbody tr th:only-of-type {\n",
       "        vertical-align: middle;\n",
       "    }\n",
       "\n",
       "    .dataframe tbody tr th {\n",
       "        vertical-align: top;\n",
       "    }\n",
       "\n",
       "    .dataframe thead th {\n",
       "        text-align: right;\n",
       "    }\n",
       "</style>\n",
       "<table border=\"1\" class=\"dataframe\">\n",
       "  <thead>\n",
       "    <tr style=\"text-align: right;\">\n",
       "      <th></th>\n",
       "      <th>T-17</th>\n",
       "      <th>T-16</th>\n",
       "      <th>T-15</th>\n",
       "      <th>T-14</th>\n",
       "      <th>T-13</th>\n",
       "      <th>T-12</th>\n",
       "      <th>T-11</th>\n",
       "      <th>T-10</th>\n",
       "      <th>T-9</th>\n",
       "      <th>T-8</th>\n",
       "      <th>...</th>\n",
       "      <th>T-5</th>\n",
       "      <th>T-4</th>\n",
       "      <th>T-3</th>\n",
       "      <th>T-2</th>\n",
       "      <th>T-1</th>\n",
       "      <th>window_statistic_12_std</th>\n",
       "      <th>difference_13_12-1</th>\n",
       "      <th>difference_statistic_3_1_abs_energy</th>\n",
       "      <th>tzero</th>\n",
       "      <th>Target_Tplus1</th>\n",
       "    </tr>\n",
       "    <tr>\n",
       "      <th>Date</th>\n",
       "      <th></th>\n",
       "      <th></th>\n",
       "      <th></th>\n",
       "      <th></th>\n",
       "      <th></th>\n",
       "      <th></th>\n",
       "      <th></th>\n",
       "      <th></th>\n",
       "      <th></th>\n",
       "      <th></th>\n",
       "      <th></th>\n",
       "      <th></th>\n",
       "      <th></th>\n",
       "      <th></th>\n",
       "      <th></th>\n",
       "      <th></th>\n",
       "      <th></th>\n",
       "      <th></th>\n",
       "      <th></th>\n",
       "      <th></th>\n",
       "      <th></th>\n",
       "    </tr>\n",
       "  </thead>\n",
       "  <tbody>\n",
       "    <tr>\n",
       "      <th>1750-06-30</th>\n",
       "      <td>96.7</td>\n",
       "      <td>104.3</td>\n",
       "      <td>116.7</td>\n",
       "      <td>92.8</td>\n",
       "      <td>141.7</td>\n",
       "      <td>139.2</td>\n",
       "      <td>158.0</td>\n",
       "      <td>110.5</td>\n",
       "      <td>126.5</td>\n",
       "      <td>125.8</td>\n",
       "      <td>...</td>\n",
       "      <td>122.2</td>\n",
       "      <td>126.5</td>\n",
       "      <td>148.7</td>\n",
       "      <td>147.2</td>\n",
       "      <td>150.0</td>\n",
       "      <td>37.875332</td>\n",
       "      <td>27.5</td>\n",
       "      <td>286.73</td>\n",
       "      <td>166.7</td>\n",
       "      <td>142.3</td>\n",
       "    </tr>\n",
       "    <tr>\n",
       "      <th>1750-07-31</th>\n",
       "      <td>104.3</td>\n",
       "      <td>116.7</td>\n",
       "      <td>92.8</td>\n",
       "      <td>141.7</td>\n",
       "      <td>139.2</td>\n",
       "      <td>158.0</td>\n",
       "      <td>110.5</td>\n",
       "      <td>126.5</td>\n",
       "      <td>125.8</td>\n",
       "      <td>264.3</td>\n",
       "      <td>...</td>\n",
       "      <td>126.5</td>\n",
       "      <td>148.7</td>\n",
       "      <td>147.2</td>\n",
       "      <td>150.0</td>\n",
       "      <td>166.7</td>\n",
       "      <td>38.180412</td>\n",
       "      <td>-15.7</td>\n",
       "      <td>874.25</td>\n",
       "      <td>142.3</td>\n",
       "      <td>171.7</td>\n",
       "    </tr>\n",
       "    <tr>\n",
       "      <th>1750-08-31</th>\n",
       "      <td>116.7</td>\n",
       "      <td>92.8</td>\n",
       "      <td>141.7</td>\n",
       "      <td>139.2</td>\n",
       "      <td>158.0</td>\n",
       "      <td>110.5</td>\n",
       "      <td>126.5</td>\n",
       "      <td>125.8</td>\n",
       "      <td>264.3</td>\n",
       "      <td>142.0</td>\n",
       "      <td>...</td>\n",
       "      <td>148.7</td>\n",
       "      <td>147.2</td>\n",
       "      <td>150.0</td>\n",
       "      <td>166.7</td>\n",
       "      <td>142.3</td>\n",
       "      <td>38.119683</td>\n",
       "      <td>61.2</td>\n",
       "      <td>1459.72</td>\n",
       "      <td>171.7</td>\n",
       "      <td>152.0</td>\n",
       "    </tr>\n",
       "    <tr>\n",
       "      <th>1750-09-30</th>\n",
       "      <td>92.8</td>\n",
       "      <td>141.7</td>\n",
       "      <td>139.2</td>\n",
       "      <td>158.0</td>\n",
       "      <td>110.5</td>\n",
       "      <td>126.5</td>\n",
       "      <td>125.8</td>\n",
       "      <td>264.3</td>\n",
       "      <td>142.0</td>\n",
       "      <td>122.2</td>\n",
       "      <td>...</td>\n",
       "      <td>147.2</td>\n",
       "      <td>150.0</td>\n",
       "      <td>166.7</td>\n",
       "      <td>142.3</td>\n",
       "      <td>171.7</td>\n",
       "      <td>36.871740</td>\n",
       "      <td>25.5</td>\n",
       "      <td>1252.45</td>\n",
       "      <td>152.0</td>\n",
       "      <td>109.5</td>\n",
       "    </tr>\n",
       "    <tr>\n",
       "      <th>1750-10-31</th>\n",
       "      <td>141.7</td>\n",
       "      <td>139.2</td>\n",
       "      <td>158.0</td>\n",
       "      <td>110.5</td>\n",
       "      <td>126.5</td>\n",
       "      <td>125.8</td>\n",
       "      <td>264.3</td>\n",
       "      <td>142.0</td>\n",
       "      <td>122.2</td>\n",
       "      <td>126.5</td>\n",
       "      <td>...</td>\n",
       "      <td>150.0</td>\n",
       "      <td>166.7</td>\n",
       "      <td>142.3</td>\n",
       "      <td>171.7</td>\n",
       "      <td>152.0</td>\n",
       "      <td>36.018271</td>\n",
       "      <td>-16.3</td>\n",
       "      <td>2194.34</td>\n",
       "      <td>109.5</td>\n",
       "      <td>105.5</td>\n",
       "    </tr>\n",
       "    <tr>\n",
       "      <th>...</th>\n",
       "      <td>...</td>\n",
       "      <td>...</td>\n",
       "      <td>...</td>\n",
       "      <td>...</td>\n",
       "      <td>...</td>\n",
       "      <td>...</td>\n",
       "      <td>...</td>\n",
       "      <td>...</td>\n",
       "      <td>...</td>\n",
       "      <td>...</td>\n",
       "      <td>...</td>\n",
       "      <td>...</td>\n",
       "      <td>...</td>\n",
       "      <td>...</td>\n",
       "      <td>...</td>\n",
       "      <td>...</td>\n",
       "      <td>...</td>\n",
       "      <td>...</td>\n",
       "      <td>...</td>\n",
       "      <td>...</td>\n",
       "      <td>...</td>\n",
       "    </tr>\n",
       "    <tr>\n",
       "      <th>2019-07-31</th>\n",
       "      <td>10.7</td>\n",
       "      <td>2.5</td>\n",
       "      <td>8.9</td>\n",
       "      <td>13.1</td>\n",
       "      <td>15.6</td>\n",
       "      <td>1.6</td>\n",
       "      <td>8.7</td>\n",
       "      <td>3.3</td>\n",
       "      <td>4.9</td>\n",
       "      <td>4.9</td>\n",
       "      <td>...</td>\n",
       "      <td>0.8</td>\n",
       "      <td>9.4</td>\n",
       "      <td>9.1</td>\n",
       "      <td>9.9</td>\n",
       "      <td>1.2</td>\n",
       "      <td>3.285786</td>\n",
       "      <td>-0.7</td>\n",
       "      <td>75.78</td>\n",
       "      <td>0.9</td>\n",
       "      <td>0.5</td>\n",
       "    </tr>\n",
       "    <tr>\n",
       "      <th>2019-08-31</th>\n",
       "      <td>2.5</td>\n",
       "      <td>8.9</td>\n",
       "      <td>13.1</td>\n",
       "      <td>15.6</td>\n",
       "      <td>1.6</td>\n",
       "      <td>8.7</td>\n",
       "      <td>3.3</td>\n",
       "      <td>4.9</td>\n",
       "      <td>4.9</td>\n",
       "      <td>3.1</td>\n",
       "      <td>...</td>\n",
       "      <td>9.4</td>\n",
       "      <td>9.1</td>\n",
       "      <td>9.9</td>\n",
       "      <td>1.2</td>\n",
       "      <td>0.9</td>\n",
       "      <td>3.357858</td>\n",
       "      <td>-8.2</td>\n",
       "      <td>0.25</td>\n",
       "      <td>0.5</td>\n",
       "      <td>1.1</td>\n",
       "    </tr>\n",
       "    <tr>\n",
       "      <th>2019-09-30</th>\n",
       "      <td>8.9</td>\n",
       "      <td>13.1</td>\n",
       "      <td>15.6</td>\n",
       "      <td>1.6</td>\n",
       "      <td>8.7</td>\n",
       "      <td>3.3</td>\n",
       "      <td>4.9</td>\n",
       "      <td>4.9</td>\n",
       "      <td>3.1</td>\n",
       "      <td>7.7</td>\n",
       "      <td>...</td>\n",
       "      <td>9.1</td>\n",
       "      <td>9.9</td>\n",
       "      <td>1.2</td>\n",
       "      <td>0.9</td>\n",
       "      <td>0.5</td>\n",
       "      <td>3.434981</td>\n",
       "      <td>-2.2</td>\n",
       "      <td>0.52</td>\n",
       "      <td>1.1</td>\n",
       "      <td>0.4</td>\n",
       "    </tr>\n",
       "    <tr>\n",
       "      <th>2019-10-31</th>\n",
       "      <td>13.1</td>\n",
       "      <td>15.6</td>\n",
       "      <td>1.6</td>\n",
       "      <td>8.7</td>\n",
       "      <td>3.3</td>\n",
       "      <td>4.9</td>\n",
       "      <td>4.9</td>\n",
       "      <td>3.1</td>\n",
       "      <td>7.7</td>\n",
       "      <td>0.8</td>\n",
       "      <td>...</td>\n",
       "      <td>9.9</td>\n",
       "      <td>1.2</td>\n",
       "      <td>0.9</td>\n",
       "      <td>0.5</td>\n",
       "      <td>1.1</td>\n",
       "      <td>3.558197</td>\n",
       "      <td>-4.5</td>\n",
       "      <td>0.85</td>\n",
       "      <td>0.4</td>\n",
       "      <td>0.5</td>\n",
       "    </tr>\n",
       "    <tr>\n",
       "      <th>2019-11-30</th>\n",
       "      <td>15.6</td>\n",
       "      <td>1.6</td>\n",
       "      <td>8.7</td>\n",
       "      <td>3.3</td>\n",
       "      <td>4.9</td>\n",
       "      <td>4.9</td>\n",
       "      <td>3.1</td>\n",
       "      <td>7.7</td>\n",
       "      <td>0.8</td>\n",
       "      <td>9.4</td>\n",
       "      <td>...</td>\n",
       "      <td>1.2</td>\n",
       "      <td>0.9</td>\n",
       "      <td>0.5</td>\n",
       "      <td>1.1</td>\n",
       "      <td>0.4</td>\n",
       "      <td>3.725103</td>\n",
       "      <td>-4.4</td>\n",
       "      <td>0.50</td>\n",
       "      <td>0.5</td>\n",
       "      <td>1.6</td>\n",
       "    </tr>\n",
       "  </tbody>\n",
       "</table>\n",
       "<p>3234 rows × 22 columns</p>\n",
       "</div>"
      ],
      "text/plain": [
       "             T-17   T-16   T-15   T-14   T-13   T-12   T-11   T-10    T-9  \\\n",
       "Date                                                                        \n",
       "1750-06-30   96.7  104.3  116.7   92.8  141.7  139.2  158.0  110.5  126.5   \n",
       "1750-07-31  104.3  116.7   92.8  141.7  139.2  158.0  110.5  126.5  125.8   \n",
       "1750-08-31  116.7   92.8  141.7  139.2  158.0  110.5  126.5  125.8  264.3   \n",
       "1750-09-30   92.8  141.7  139.2  158.0  110.5  126.5  125.8  264.3  142.0   \n",
       "1750-10-31  141.7  139.2  158.0  110.5  126.5  125.8  264.3  142.0  122.2   \n",
       "...           ...    ...    ...    ...    ...    ...    ...    ...    ...   \n",
       "2019-07-31   10.7    2.5    8.9   13.1   15.6    1.6    8.7    3.3    4.9   \n",
       "2019-08-31    2.5    8.9   13.1   15.6    1.6    8.7    3.3    4.9    4.9   \n",
       "2019-09-30    8.9   13.1   15.6    1.6    8.7    3.3    4.9    4.9    3.1   \n",
       "2019-10-31   13.1   15.6    1.6    8.7    3.3    4.9    4.9    3.1    7.7   \n",
       "2019-11-30   15.6    1.6    8.7    3.3    4.9    4.9    3.1    7.7    0.8   \n",
       "\n",
       "              T-8  ...    T-5    T-4    T-3    T-2    T-1  \\\n",
       "Date               ...                                      \n",
       "1750-06-30  125.8  ...  122.2  126.5  148.7  147.2  150.0   \n",
       "1750-07-31  264.3  ...  126.5  148.7  147.2  150.0  166.7   \n",
       "1750-08-31  142.0  ...  148.7  147.2  150.0  166.7  142.3   \n",
       "1750-09-30  122.2  ...  147.2  150.0  166.7  142.3  171.7   \n",
       "1750-10-31  126.5  ...  150.0  166.7  142.3  171.7  152.0   \n",
       "...           ...  ...    ...    ...    ...    ...    ...   \n",
       "2019-07-31    4.9  ...    0.8    9.4    9.1    9.9    1.2   \n",
       "2019-08-31    3.1  ...    9.4    9.1    9.9    1.2    0.9   \n",
       "2019-09-30    7.7  ...    9.1    9.9    1.2    0.9    0.5   \n",
       "2019-10-31    0.8  ...    9.9    1.2    0.9    0.5    1.1   \n",
       "2019-11-30    9.4  ...    1.2    0.9    0.5    1.1    0.4   \n",
       "\n",
       "            window_statistic_12_std  difference_13_12-1  \\\n",
       "Date                                                      \n",
       "1750-06-30                37.875332                27.5   \n",
       "1750-07-31                38.180412               -15.7   \n",
       "1750-08-31                38.119683                61.2   \n",
       "1750-09-30                36.871740                25.5   \n",
       "1750-10-31                36.018271               -16.3   \n",
       "...                             ...                 ...   \n",
       "2019-07-31                 3.285786                -0.7   \n",
       "2019-08-31                 3.357858                -8.2   \n",
       "2019-09-30                 3.434981                -2.2   \n",
       "2019-10-31                 3.558197                -4.5   \n",
       "2019-11-30                 3.725103                -4.4   \n",
       "\n",
       "            difference_statistic_3_1_abs_energy  tzero  Target_Tplus1  \n",
       "Date                                                                   \n",
       "1750-06-30                               286.73  166.7          142.3  \n",
       "1750-07-31                               874.25  142.3          171.7  \n",
       "1750-08-31                              1459.72  171.7          152.0  \n",
       "1750-09-30                              1252.45  152.0          109.5  \n",
       "1750-10-31                              2194.34  109.5          105.5  \n",
       "...                                         ...    ...            ...  \n",
       "2019-07-31                                75.78    0.9            0.5  \n",
       "2019-08-31                                 0.25    0.5            1.1  \n",
       "2019-09-30                                 0.52    1.1            0.4  \n",
       "2019-10-31                                 0.85    0.4            0.5  \n",
       "2019-11-30                                 0.50    0.5            1.6  \n",
       "\n",
       "[3234 rows x 22 columns]"
      ]
     },
     "execution_count": 93,
     "metadata": {},
     "output_type": "execute_result"
    }
   ],
   "source": [
    "features"
   ]
  },
  {
   "cell_type": "markdown",
   "metadata": {},
   "source": [
    "Save the csv dataset in order to use it on TADA"
   ]
  },
  {
   "cell_type": "code",
   "execution_count": 29,
   "metadata": {},
   "outputs": [],
   "source": [
    "features.to_csv(r'/Users/nicolaronzoni/Desktop/UCA/case_study/feature.csv', index = True, header=True)"
   ]
  },
  {
   "cell_type": "markdown",
   "metadata": {},
   "source": [
    "## TADA prediction "
   ]
  },
  {
   "cell_type": "markdown",
   "metadata": {},
   "source": [
    "I created 21 features that can be used for predict one step forward. In TADA i will use only the most important ones, by using the search grid previously computed: \n",
    "\n",
    "- Xt (tzero)\n",
    "- Xt-1 (T-1)\n",
    "- Xt-2 (T-2)\n",
    "- Xt-3 (T-3)\n",
    "- Xt-4 (T-4)\n",
    "- Xt-5 (T-5)\n",
    "- Xt-6 (T-6)\n",
    "- Xt-10 (T-10)\n",
    "- Xt-17 (T-17)\n",
    "9 features to predict Xt+1 (our goal) as input. \n",
    "\n",
    "We use all observation available, we didn't delete any observation. \n",
    "\n",
    " As a result e obtain a global score model of 69%. TADA get this result only using a subset of the input features (7 features): \n",
    "\n",
    "- Xt\n",
    "- Xt-1\n",
    "- Xt-2\n",
    "- Xt-5\n",
    "- Xt-6\n",
    "- Xt-10\n",
    "- Xt-17\n"
   ]
  },
  {
   "cell_type": "code",
   "execution_count": 31,
   "metadata": {},
   "outputs": [],
   "source": [
    "import math\n",
    "\n",
    "abs = math.fabs\n",
    "ceiling = math.ceil\n",
    "cos = math.cos\n",
    "exp = math.exp\n",
    "floor = math.floor\n",
    "log = math.log\n",
    "sin = math.sin\n",
    "sqrt = math.sqrt\n",
    "truncate = math.trunc\n",
    "\n",
    "variables = [\"T-2\", \"T-6\", \"T-1\", \"T-10\", \"T-17\", \"T-5\", \"tzero\"]\n",
    "\n",
    "\n",
    "def check_sample(sample: pd.Series):\n",
    "    for variable in variables:\n",
    "        if variable not in sample.index:\n",
    "            raise Exception(\"Variable error: {} not present in input\".format(variable))\n",
    "\n",
    "\n",
    "def predict(sample: pd.Series) -> float:\n",
    "    check_sample(sample)\n",
    "\n",
    "    column_1 = float(sample[\"T-2\"])\n",
    "    column_3 = float(sample[\"T-6\"])\n",
    "    column_4 = float(sample[\"T-1\"])\n",
    "    column_5 = float(sample[\"T-10\"])\n",
    "    column_6 = float(sample[\"T-17\"])\n",
    "    column_7 = float(sample[\"T-5\"])\n",
    "    tzero = float(sample[\"tzero\"])\n",
    "\n",
    "    try:\n",
    "        return 0.240677198798674*column_4 + 0.0020811434064103*column_6 + 0.58962172176905*tzero - 0.00123650793945041*sqrt(abs(0.115938048371099*(column_3 + column_4) + 0.884061951628901*abs(column_4)))*column_4 - 0.000329377042421718*truncate(0.115938048371099*(column_3 + column_4) + 0.884061951628901*abs(column_4))*column_4 + 0.152240464761094*sqrt(abs(column_5)) - 0.622312003332226*sqrt(abs(column_6)) + 0.761777641582889*sqrt(abs(column_7)) + 0.0406427826989511*floor(column_5) + 0.323790283552682*floor(column_7) - 0.662946381672931*ceiling(0.701731898985275*sqrt(abs(column_7)) + 0.298268101014725*floor(column_7)) + 0.995189185299062*sin(tzero) - 0.000132057906492641*cos(column_4) + 0.507881246487279*cos(0.613916227969787*(column_1 - column_6) + 0.386083772030213*floor(column_1)) + 0.180216942273421*abs(0.613916227969787*(column_1 - column_6) + 0.386083772030213*floor(column_1))\n",
    "    except ZeroDivisionError:\n",
    "        return math.nan\n",
    "\n",
    "# Association table between variable and column names:\n",
    "# \"column_1\" = \"T-2\"\n",
    "# \"column_3\" = \"T-6\"\n",
    "# \"column_4\" = \"T-1\"\n",
    "# \"column_5\" = \"T-10\"\n",
    "# \"column_6\" = \"T-17\"\n",
    "# \"column_7\" = \"T-5\""
   ]
  },
  {
   "cell_type": "markdown",
   "metadata": {},
   "source": [
    "## Prediction with SARIMA/ARIMA "
   ]
  },
  {
   "cell_type": "markdown",
   "metadata": {},
   "source": [
    "We implement a SARIMA/ARIMA search grid in order to compute the prediction and compare it with our result on TADA. "
   ]
  },
  {
   "cell_type": "code",
   "execution_count": 32,
   "metadata": {},
   "outputs": [],
   "source": [
    "#grid search for SARIMA model\n",
    "\n",
    "# grid search sarima hyperparameters\n",
    "\n",
    "from multiprocessing import cpu_count\n",
    "from joblib import Parallel\n",
    "from joblib import delayed\n",
    "from warnings import catch_warnings\n",
    "from warnings import filterwarnings\n",
    "from statsmodels.tsa.statespace.sarimax import SARIMAX\n",
    "\n",
    "\n",
    "#The function takes an array of observations and a list of configuration parameters used to configure the model:\n",
    "#specifically two tuples and a string for the trend order, seasonal order trend, and parameter.\n",
    "# one-step sarima forecast\n",
    "def sarima_forecast(history, config):\n",
    "    order, sorder, trend = config\n",
    "    # define model\n",
    "    model = SARIMAX(history, order=order, seasonal_order=sorder, trend=trend, enforce_stationarity=False, enforce_invertibility=False)\n",
    "    # fit model\n",
    "    model_fit = model.fit(disp=False)\n",
    "    # make one step forecast\n",
    "    yhat = model_fit.predict(len(history), len(history))\n",
    "    return yhat[0]\n",
    "\n",
    "#we need to build up some functions for fitting and evaluating a model repeatedly via walk-forward validation,\n",
    "#including splitting a dataset into train and test sets and evaluating one-step forecasts.\n",
    "\n",
    "#We can split an array of data using a slice given a specified size of the split.\n",
    "#for the size of the split we use the number of time steps to use in the test set.\n",
    "# split a univariate dataset into train/test sets\n",
    "def train_test_split(data, n_test):\n",
    "    return data[:-n_test], data[-n_test:]\n",
    "\n",
    "#After forecasts have been made for each step in the test dataset,\n",
    "#they need to be compared to the test set in order to calculate an error score.\n",
    "\n",
    "#To evaluate one-step forescast we use RMSE. \n",
    "# root mean squared error or rmse\n",
    "def measure_rmse(actual, predicted):\n",
    "    return sqrt(mean_squared_error(actual, predicted))\n",
    "\n",
    "\n",
    "#We can now implement the walk-forward validation scheme.\n",
    "#This is a standard approach to evaluating a time series forecasting \n",
    "#The function sarima_forecast() has the opportunity to make good forecasts at each time step, as new data become available.\n",
    "\n",
    "#First, a provided univariate time series dataset is split into train and test sets using the train_test_split() function.\n",
    "#Second, the number of observations in the test set are enumerated. \n",
    "#For each we fit a model on all of the history and make a one step forecast. \n",
    "#Third, The true observation for the time step is then added to the history and the process is repeated. \n",
    "#The sarima_forecast() function is called in order to fit a model and make a prediction. \n",
    "#Fourth, an error score is calculated by comparing all one-step forecasts to the actual test set by calling the measure_rmse() function.\n",
    "\n",
    "\n",
    "#The walk_forward_validation() takes: a univariate time series, a number of time steps to use in the test set, and an array of model configuration. \n",
    "# walk-forward validation for univariate data\n",
    "def walk_forward_validation(data, n_test, cfg):\n",
    "    predictions = list()\n",
    "    # split dataset\n",
    "    train, test = train_test_split(data, n_test)\n",
    "    # seed history with training dataset\n",
    "    history = [x for x in train]\n",
    "    # step over each time-step in the test set\n",
    "    for i in range(len(test)):\n",
    "        # fit model and make forecast for history\n",
    "        yhat = sarima_forecast(history, cfg)\n",
    "        # store forecast in list of predictions\n",
    "        predictions.append(yhat)\n",
    "        # add actual observation to history for the next loop\n",
    "        history.append(test[i])\n",
    "    # estimate prediction error\n",
    "    error = measure_rmse(test, predictions)\n",
    "    return error\n",
    "\n",
    "\n",
    "#Possible problems \n",
    "#One possible issue is that some combinations of model configurations may not be called for the model and will throw an exception\n",
    "#Ex. specifying some but not all aspects of the seasonal structure in the data.\n",
    "\n",
    "#Further, some models may also raise warnings on some data\n",
    "#Ex. from the linear algebra libraries called by the statsmodels library.\n",
    "#solutions:\n",
    "#We can trap exceptions and ignore warnings during the grid search by wrapping all calls to walk_forward_validation() with a try-except and a block to ignore warnings. \n",
    "#We can also add debugging support to disable these protections in the case we want to see what is really going on. \n",
    "#Finally,  we can return some information about the skill of each model evaluated. This is helpful when a large number of models are evaluated.\n",
    "\n",
    "#The score_model() function below implements this and returns a tuple of (key and result), where the key is a string version of the tested model configuration.\n",
    "# score a model, return None on failure\n",
    "def score_model(data, n_test, cfg, debug=False):\n",
    "    result = None\n",
    "    # convert config to a key\n",
    "    key = str(cfg)\n",
    "    # show all warnings and fail on exception if debugging\n",
    "    if debug:\n",
    "        result = walk_forward_validation(data, n_test, cfg)\n",
    "    else:\n",
    "        # one failure during model validation suggests an unstable config\n",
    "        try:\n",
    "            # never show warnings when grid searching, too noisy\n",
    "            with catch_warnings():\n",
    "                filterwarnings(\"ignore\")\n",
    "                result = walk_forward_validation(data, n_test, cfg)\n",
    "        except:\n",
    "            error = None\n",
    "    # check for an interesting result\n",
    "    if result is not None:\n",
    "        print(' > Model[%s] %.3f' % (key, result))\n",
    "    return (key, result)\n",
    "\n",
    "\n",
    "#Now we  need a loop to test a list of different model configurations.\n",
    "#This is the main function that drives the grid search process, we will call the score_model() function for each model configuration.\n",
    "#The grid_search() function below implements this behavior given:\n",
    "#a univariate time series dataset\n",
    "#a list of model configurations (list of lists)\n",
    "#the number of time steps to use in the test set.\n",
    "#An optional parallel argument that allows us to speed up the process of the evaluation of the  models \n",
    "# grid search configs\n",
    "def grid_search(data, cfg_list, n_test, parallel=True):\n",
    "    scores = None\n",
    "    scores = [score_model(data, n_test, cfg) for cfg in cfg_list]\n",
    "    # remove empty results\n",
    "    scores = [r for r in scores if r[1] != None]\n",
    "    # sort configs by error, asc\n",
    "    scores.sort(key=lambda tup: tup[1])\n",
    "    return scores\n",
    "\n",
    "#The only thing left to do is to define a list of model configurations to try for a dataset.\n",
    "#We can define this generically.\n",
    "#The only parameter we may want to specify is the periodicity of the seasonal component in the series, if one exists. \n",
    "#By default, we will assume no seasonal component but of course it depends on the time series that we are analyzing \n",
    " \n",
    "# create a set of sarima configs to try\n",
    "def sarima_configs(seasonal=[0]):\n",
    "    models = list()\n",
    "    # define config lists\n",
    "    #autoregressive parameter for modeling the trend \n",
    "    p_params = [0, 1, 2]\n",
    "    #integrated parameter for modeling the trend \n",
    "    d_params = [0, 1]\n",
    "    #moving average for modeling the trend\n",
    "    q_params = [0, 1, 2]\n",
    "    #parameters for deterministic trend \n",
    "    #no trend, constant trend, linear trend\n",
    "    t_params = ['n','c','t']\n",
    "    #autoregressive parameter for modeling the seasonality\n",
    "    P_params = [0, 1]\n",
    "    #integrated parameter for modeling the seasonality\n",
    "    D_params = [0, 1]\n",
    "    #moving average for modeling the seasonality\n",
    "    Q_params = [0, 1]\n",
    "    #seasonal component defined by the user \n",
    "    m_params = seasonal\n",
    "    # create config instances\n",
    "    for p in p_params:\n",
    "        for d in d_params:\n",
    "            for q in q_params:\n",
    "                for t in t_params:\n",
    "                    for P in P_params:\n",
    "                        for D in D_params:\n",
    "                            for Q in Q_params:\n",
    "                                for m in m_params:\n",
    "                                    cfg = [(p,d,q), (P,D,Q,m), t]\n",
    "                                    models.append(cfg)\n",
    "    return models\n",
    " \n",
    "\n",
    "#We now have a framework for grid searching SARIMA model hyperparameters via one-step walk-forward validation.\n",
    "\n"
   ]
  },
  {
   "cell_type": "markdown",
   "metadata": {},
   "source": [
    "For time computing reason we set seasonal parameter equal to 0, so at the end we will have a ARIMA model to compare our TADA result. "
   ]
  },
  {
   "cell_type": "markdown",
   "metadata": {},
   "source": [
    "As we previously did we perform the search grid considering as test only the last observation."
   ]
  },
  {
   "cell_type": "code",
   "execution_count": 33,
   "metadata": {},
   "outputs": [
    {
     "name": "stdout",
     "output_type": "stream",
     "text": [
      " > Model[[(0, 0, 0), (0, 0, 0, 0), 'n']] 1.600\n",
      " > Model[[(0, 0, 0), (0, 0, 0, 0), 'c']] 80.495\n",
      " > Model[[(0, 0, 0), (0, 0, 0, 0), 't']] 124.164\n",
      " > Model[[(0, 0, 1), (0, 0, 0, 0), 'n']] 0.895\n",
      " > Model[[(0, 0, 1), (0, 0, 0, 0), 'c']] 47.583\n",
      " > Model[[(0, 0, 1), (0, 0, 0, 0), 't']] 72.071\n",
      " > Model[[(0, 0, 2), (0, 0, 0, 0), 'n']] 1.332\n",
      " > Model[[(0, 0, 2), (0, 0, 0, 0), 'c']] 32.504\n",
      " > Model[[(0, 0, 2), (0, 0, 0, 0), 't']] 48.378\n",
      " > Model[[(0, 1, 0), (0, 0, 0, 0), 'n']] 1.100\n",
      " > Model[[(0, 1, 0), (0, 0, 0, 0), 'c']] 1.131\n",
      " > Model[[(0, 1, 0), (0, 0, 0, 0), 't']] 1.175\n",
      " > Model[[(0, 1, 1), (0, 0, 0, 0), 'n']] 0.930\n",
      " > Model[[(0, 1, 1), (0, 0, 0, 0), 'c']] 0.988\n",
      " > Model[[(0, 1, 1), (0, 0, 0, 0), 't']] 1.045\n",
      " > Model[[(0, 1, 2), (0, 0, 0, 0), 'n']] 0.691\n",
      " > Model[[(0, 1, 2), (0, 0, 0, 0), 'c']] 0.767\n",
      " > Model[[(0, 1, 2), (0, 0, 0, 0), 't']] 0.832\n",
      " > Model[[(1, 0, 0), (0, 0, 0, 0), 'n']] 1.117\n",
      " > Model[[(1, 0, 0), (0, 0, 0, 0), 'c']] 5.559\n",
      " > Model[[(1, 0, 0), (0, 0, 0, 0), 't']] 6.602\n",
      " > Model[[(1, 0, 1), (0, 0, 0, 0), 'n']] 0.953\n",
      " > Model[[(1, 0, 1), (0, 0, 0, 0), 'c']] 2.276\n",
      " > Model[[(1, 0, 1), (0, 0, 0, 0), 't']] 2.580\n",
      " > Model[[(1, 0, 2), (0, 0, 0, 0), 'n']] 0.723\n",
      " > Model[[(1, 0, 2), (0, 0, 0, 0), 'c']] 2.084\n",
      " > Model[[(1, 0, 2), (0, 0, 0, 0), 't']] 2.342\n",
      " > Model[[(1, 1, 0), (0, 0, 0, 0), 'n']] 1.130\n",
      " > Model[[(1, 1, 0), (0, 0, 0, 0), 'c']] 1.171\n",
      " > Model[[(1, 1, 0), (0, 0, 0, 0), 't']] 1.229\n",
      " > Model[[(1, 1, 1), (0, 0, 0, 0), 'n']] 0.674\n",
      " > Model[[(1, 1, 1), (0, 0, 0, 0), 'c']] 0.752\n",
      " > Model[[(1, 1, 1), (0, 0, 0, 0), 't']] 0.792\n",
      " > Model[[(1, 1, 2), (0, 0, 0, 0), 'n']] 0.688\n",
      " > Model[[(1, 1, 2), (0, 0, 0, 0), 'c']] 0.777\n",
      " > Model[[(1, 1, 2), (0, 0, 0, 0), 't']] 0.772\n",
      " > Model[[(2, 0, 0), (0, 0, 0, 0), 'n']] 1.141\n",
      " > Model[[(2, 0, 0), (0, 0, 0, 0), 'c']] 3.684\n",
      " > Model[[(2, 0, 0), (0, 0, 0, 0), 't']] 4.354\n",
      " > Model[[(2, 0, 1), (0, 0, 0, 0), 'n']] 0.712\n",
      " > Model[[(2, 0, 1), (0, 0, 0, 0), 'c']] 2.072\n",
      " > Model[[(2, 0, 1), (0, 0, 0, 0), 't']] 2.304\n",
      " > Model[[(2, 0, 2), (0, 0, 0, 0), 'n']] 0.719\n",
      " > Model[[(2, 0, 2), (0, 0, 0, 0), 'c']] 2.089\n",
      " > Model[[(2, 0, 2), (0, 0, 0, 0), 't']] 2.346\n",
      " > Model[[(2, 1, 0), (0, 0, 0, 0), 'n']] 0.989\n",
      " > Model[[(2, 1, 0), (0, 0, 0, 0), 'c']] 1.043\n",
      " > Model[[(2, 1, 0), (0, 0, 0, 0), 't']] 1.108\n",
      " > Model[[(2, 1, 1), (0, 0, 0, 0), 'n']] 0.715\n",
      " > Model[[(2, 1, 1), (0, 0, 0, 0), 'c']] 0.794\n",
      " > Model[[(2, 1, 1), (0, 0, 0, 0), 't']] 0.840\n",
      " > Model[[(2, 1, 2), (0, 0, 0, 0), 'n']] 0.585\n",
      " > Model[[(2, 1, 2), (0, 0, 0, 0), 'c']] 0.665\n",
      " > Model[[(2, 1, 2), (0, 0, 0, 0), 't']] 0.844\n",
      "done\n",
      "[(2, 1, 2), (0, 0, 0, 0), 'n'] 0.5853883406402018\n",
      "[(2, 1, 2), (0, 0, 0, 0), 'c'] 0.6646326015679734\n",
      "[(1, 1, 1), (0, 0, 0, 0), 'n'] 0.6739011996241373\n"
     ]
    }
   ],
   "source": [
    "if __name__ == '__main__':\n",
    "    # define dataset\n",
    "    data = X\n",
    "\n",
    "    # data split\n",
    "    n_test = 1\n",
    "    # model configs\n",
    "    #manually state the parameter for the seasonality that we would like to try.\n",
    "    cfg_list = sarima_configs(seasonal=[0])\n",
    "    # grid search\n",
    "    scores = grid_search(data, cfg_list, n_test)\n",
    "    print('done')\n",
    "    # list top 3 configs\n",
    "    for cfg, error in scores[:3]:\n",
    "        print(cfg, error)"
   ]
  },
  {
   "cell_type": "markdown",
   "metadata": {},
   "source": [
    "## Comparison TADA VS ARIMA "
   ]
  },
  {
   "cell_type": "markdown",
   "metadata": {},
   "source": [
    "The comparison is between one step forecast Arima(2,1,2)  vs one step forecast Tada. To compare better we take as benchmark the last 12 observation and by walk forward validation we compute one step forecast each time and then we add the true value to perform the next one. \n",
    "RMSE is calculated for having a measure of the perform of the prediction. "
   ]
  },
  {
   "cell_type": "code",
   "execution_count": 110,
   "metadata": {},
   "outputs": [
    {
     "name": "stdout",
     "output_type": "stream",
     "text": [
      "predicted ARIMA=2.999401, expected=7.700000\n",
      "predicted ARIMA=5.316787, expected=0.800000\n",
      "predicted ARIMA=1.613412, expected=9.400000\n",
      "predicted ARIMA=6.104381, expected=9.100000\n",
      "predicted ARIMA=6.407640, expected=9.900000\n",
      "predicted ARIMA=7.324193, expected=1.200000\n",
      "predicted ARIMA=2.921065, expected=0.900000\n",
      "predicted ARIMA=2.447797, expected=0.500000\n",
      "predicted ARIMA=1.895103, expected=1.100000\n",
      "predicted ARIMA=1.889941, expected=0.400000\n",
      "predicted ARIMA=1.230823, expected=0.500000\n",
      "predicted ARIMA=0.992984, expected=1.600000\n",
      "Test RMSE ARIMA: 3.802\n",
      "predicted TADA=2.955179, expected=7.700000\n",
      "predicted TADA=6.912770, expected=0.800000\n",
      "predicted TADA=4.499651, expected=9.400000\n",
      "predicted TADA=6.114969, expected=9.100000\n",
      "predicted TADA=8.649459, expected=9.900000\n",
      "predicted TADA=6.817340, expected=1.200000\n",
      "predicted TADA=5.146089, expected=0.900000\n",
      "predicted TADA=0.035715, expected=0.500000\n",
      "predicted TADA=2.982738, expected=1.100000\n",
      "predicted TADA=3.199192, expected=0.400000\n",
      "predicted TADA=2.500615, expected=0.500000\n",
      "predicted TADA=0.203789, expected=1.600000\n",
      "Test RMSE TADA: 3.669\n"
     ]
    },
    {
     "data": {
      "image/png": "[encoded data removed]",
      "text/plain": [
       "<Figure size 432x288 with 1 Axes>"
      ]
     },
     "metadata": {
      "needs_background": "light"
     },
     "output_type": "display_data"
    }
   ],
   "source": [
    "predictions_ARIMA = list()\n",
    "# define model configuration\n",
    "my_order = (2, 1, 2)\n",
    "my_seasonal_order = (0, 0, 0, 0)\n",
    "# split dataset\n",
    "train, test = train_test_split(X, 12)\n",
    "history = [x for x in train]\n",
    "\n",
    "# walk-forward validation\n",
    "for t in range(len(test)):\n",
    "    model = SARIMAX(history,order=my_order, seasonal_order=my_seasonal_order)\n",
    "    model_fit = model.fit()\n",
    "    output = model_fit.forecast()\n",
    "    yhat = output[0]\n",
    "    predictions_ARIMA.append(yhat)\n",
    "    obs = test[t]\n",
    "    history.append(obs)\n",
    "    print('predicted ARIMA=%f, expected=%f' % (yhat, obs))\n",
    "# evaluate forecasts ARIMA\n",
    "rmse_ARIMA = sqrt(mean_squared_error(test, predictions_ARIMA))\n",
    "print('Test RMSE ARIMA: %.3f' % rmse_ARIMA)\n",
    "\n",
    "\n",
    "predictions_TADA=list()\n",
    "\n",
    "#from features dataframe, we select only the last 12 rows\n",
    "ft=features.iloc[-12:]\n",
    "for i in range(len(ft)):\n",
    "    i=int(i)\n",
    "    current=ft.iloc[i, ]\n",
    "    column_1 = float(current[\"T-2\"])\n",
    "    column_3 = float(current[\"T-6\"])\n",
    "    column_4 = float(current[\"T-1\"])\n",
    "    column_5 = float(current[\"T-10\"])\n",
    "    column_6 = float(current[\"T-17\"])\n",
    "    column_7 = float(current[\"T-5\"])\n",
    "    tzero = float(current[\"tzero\"])\n",
    "    target=float(current[\"Target_Tplus1\"])\n",
    "    yhat_TADA=0.240677198798674*column_4 + 0.0020811434064103*column_6 + 0.58962172176905*tzero - 0.00123650793945041*sqrt(abs(0.115938048371099*(column_3 + column_4) + 0.884061951628901*abs(column_4)))*column_4 - 0.000329377042421718*truncate(0.115938048371099*(column_3 + column_4) + 0.884061951628901*abs(column_4))*column_4 + 0.152240464761094*sqrt(abs(column_5)) - 0.622312003332226*sqrt(abs(column_6)) + 0.761777641582889*sqrt(abs(column_7)) + 0.0406427826989511*floor(column_5) + 0.323790283552682*floor(column_7) - 0.662946381672931*ceiling(0.701731898985275*sqrt(abs(column_7)) + 0.298268101014725*floor(column_7)) + 0.995189185299062*sin(tzero) - 0.000132057906492641*cos(column_4) + 0.507881246487279*cos(0.613916227969787*(column_1 - column_6) + 0.386083772030213*floor(column_1)) + 0.180216942273421*abs(0.613916227969787*(column_1 - column_6) + 0.386083772030213*floor(column_1))\n",
    "    predictions_TADA.append(yhat_TADA)\n",
    "    print('predicted TADA=%f, expected=%f' % (yhat_TADA, target))\n",
    "#evaluate forecast TADA \n",
    "rmse_TADA = sqrt(mean_squared_error(test, predictions_TADA))\n",
    "print('Test RMSE TADA: %.3f' % rmse_TADA)\n",
    "# plot forecasts against actual outcomes\n",
    "plt.plot(test,color='blue', label=\"ground truth\")\n",
    "plt.plot(predictions, color='red', label=\"ARIMA\")\n",
    "plt.plot(predictions_TADA, color='green',label=\"TADA\")\n",
    "plt.legend()\n",
    "plt.show()"
   ]
  },
  {
   "cell_type": "markdown",
   "metadata": {},
   "source": [
    "## Conclusion  "
   ]
  },
  {
   "cell_type": "markdown",
   "metadata": {},
   "source": [
    "In our case study we obtain that the RMSE of the TADA model for the last 12 one step forward prediction is lower than the RMSE of the ARIMA (2,1,2) model"
   ]
  }
 ],
 "metadata": {
  "kernelspec": {
   "display_name": "Python 3",
   "language": "python",
   "name": "python3"
  },
  "language_info": {
   "codemirror_mode": {
    "name": "ipython",
    "version": 3
   },
   "file_extension": ".py",
   "mimetype": "text/x-python",
   "name": "python",
   "nbconvert_exporter": "python",
   "pygments_lexer": "ipython3",
   "version": "3.8.5"
  },
  "toc": {
   "base_numbering": 1,
   "nav_menu": {},
   "number_sections": true,
   "sideBar": true,
   "skip_h1_title": false,
   "title_cell": "Table of Contents",
   "title_sidebar": "Contents",
   "toc_cell": true,
   "toc_position": {},
   "toc_section_display": true,
   "toc_window_display": true
  }
 },
 "nbformat": 4,
 "nbformat_minor": 4
}
